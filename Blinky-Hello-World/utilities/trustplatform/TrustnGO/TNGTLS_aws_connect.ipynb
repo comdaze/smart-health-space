{
 "cells": [
  {
   "cell_type": "markdown",
   "metadata": {},
   "source": [
    "# Introduction\n",
    "<font color = green> <strong>MUST READ:</strong></font> This Notebook tutorial will allow you to register a TNG manifest file into aws-iot account to enable device connectivity. To run this Notebook successfuly, its required to have AWS CLI loaded with account credentials, Manifest file and Manifest file Signer are generated, and Manifest file is Signed by Manifest signer. The Manifest file related steps will be taken care by TNGTLS Manifest File Generation Notebook.\n",
    "\n",
    "Before running this Notebook,\n",
    "1. <font><strong>docs/AWS Test account credentials.csv</strong></font> file should have updated with User credentials to be used.\n",
    "2. Run TNGTLS Manifest File Generation Notebook to ensure Manifest file generated and signed"
   ]
  },
  {
   "cell_type": "markdown",
   "metadata": {},
   "source": [
    "### Prerequisites:\n",
    "This step of the tutorial will attempt to load all the necessary modules and their dependencies on your machine. If the modules are already installed you can safely step over the next Tutorial step."
   ]
  },
  {
   "cell_type": "markdown",
   "metadata": {},
   "source": [
    "<font color = orange> <strong>Note</strong></font> \n",
    "1. Installation time for prerequisites depends upon system and network speed.\n",
    "2. Installing prerequisites for the first time takes more time and watch the kernel status for progress. Following image helps to locate the Kernel status,\n",
    "<center><img src=\"../../../../assets/notebook/img/kerner_status.png\" alt=\"**Check Kernel Status**\" /></center>\n",
    "\n",
    "\n",
    "3. Installing prerequisites gives the following error and it can be safely ignored. Functionality remains unaffected.\n",
    "    - <font color = orange> azure-cli 2.0.76 has requirement colorama~=0.4.1, but you'll have colorama 0.3.9 which is incompatible.</font>\n",
    "    - <font color = orange> azure-cli 2.0.76 has requirement pytz==2019.1, but you'll have pytz 2019.3 which is incompatible. </font>"
   ]
  },
  {
   "cell_type": "code",
   "execution_count": null,
   "metadata": {
    "scrolled": true
   },
   "outputs": [],
   "source": [
    "import sys, os\n",
    "\n",
    "home_path = os.path.dirname(os.path.dirname(os.path.dirname(os.path.dirname(os.path.realpath(os.getcwd())))))\n",
    "module_path = os.path.join(home_path, 'assets', 'python')\n",
    "if not module_path in sys.path:\n",
    "    sys.path.append(module_path)\n",
    "\n",
    "from requirements_helper import requirements_installer\n",
    "obj = requirements_installer(os.path.join(home_path, 'assets', 'requirements.txt'))"
   ]
  },
  {
   "cell_type": "markdown",
   "metadata": {},
   "source": [
    "### Load the necessary modules and helper functions\n",
    "This step loads the required modules and helper functions to perform the required operations."
   ]
  },
  {
   "cell_type": "code",
   "execution_count": null,
   "metadata": {},
   "outputs": [],
   "source": [
    "import json\n",
    "from helper_aws import *\n",
    "from Microchip_manifest_handler import *\n",
    "from gui_aws import *\n",
    "from ipywidgets import *"
   ]
  },
  {
   "cell_type": "markdown",
   "metadata": {},
   "source": [
    "The following steps assist to perform\n",
    "1. Updating AWS account credentials\n",
    "2. Manifest file upload to AWS account and verify\n",
    "3. Triggering the AWS GUI to control connected device\n",
    "\n",
    "#### Updating AWS account credentials (1. Config AWS-CLI)\n",
    "This button helps to update user AWS credentials to AWS-CLI. These will be used for any interactions with AWS cloud from the PC. This is an option button to execute. This can be skipped if configuration displayed is correct for the User account."
   ]
  },
  {
   "cell_type": "code",
   "execution_count": null,
   "metadata": {},
   "outputs": [],
   "source": [
    "def get_user_region(b):\n",
    "    config_aws_cli.button_style = configure_aws_cli(text.value)\n",
    "    print('--------------------------------------')\n",
    "def execute_aws_configure(b):\n",
    "    display(text)\n",
    "    text.on_submit(get_user_region)\n",
    "    \n",
    "config_aws_cli = widgets.Button(description = \"Step1. Config AWS-CLI\", layout=widgets.Layout(width='auto'))\n",
    "text = widgets.Text(value='', description='AWS User Region:', style={'description_width': '150px'})\n",
    "manifest_file = FileUpload(description='Step2 a. Load Manifest JSON File', accept='.json', layout=widgets.Layout(width='auto'), multiple=False)\n",
    "validation_cert = FileUpload(description='Step2 b. Load Validation CERT File', accept='.crt', layout=widgets.Layout(width='auto'), multiple=False)\n",
    "manifest_upload = widgets.Button(description = \"Step2 c. Upload Manifest File\", layout=widgets.Layout(width='auto'))\n",
    "aws_gui_b = widgets.Button(description = \"Step3. AWS GUI\")\n"
   ]
  },
  {
   "cell_type": "markdown",
   "metadata": {},
   "source": [
    "#### File navigation for Manifest file and certificate (2. Upload Manifest file)\n",
    "This button helps to load the Manifest file to AWS account. To be able to upload successfully, its required to provide devices Manifest file and Manifest file Signer certificate. On uploading, this step also verifies the upload process by fetching the device certificate(s) from AWS account and validating with Signer certificate."
   ]
  },
  {
   "cell_type": "code",
   "execution_count": null,
   "metadata": {},
   "outputs": [],
   "source": [
    "def execute_manifest_upload(b):\n",
    "    check_and_install_policy('Default')\n",
    "    if not manifest_file.data or not validation_cert.data:\n",
    "        print('Step2a & Step2b should be executed first before proceeding to this step\\r\\n')\n",
    "        return None\n",
    "    manifest_data = json.loads(manifest_file.data[0])\n",
    "    cert_data = validation_cert.data[0]                           \n",
    "    invoke_import_manifest('Default', manifest_data, cert_data)\n",
    "    invoke_validate_manifest_import(manifest_data, cert_data)\n",
    "    manifest_upload.button_style = 'success'\n",
    "    print('--------------------------------------')"
   ]
  },
  {
   "cell_type": "markdown",
   "metadata": {},
   "source": [
    "#### Trigger AWS GUI (3. AWS GUI)\n",
    "Before running this step, target hardware should be compiled with the above host name and wifi credentials. Once, the target hardware is programmed and connected to cloud, click this button to pops up a GUI. This GUI can be used to control the LED on the hardware."
   ]
  },
  {
   "cell_type": "code",
   "execution_count": null,
   "metadata": {},
   "outputs": [],
   "source": [
    "def execute_aws_gui(b):\n",
    "    thing = widgets.Text(value='', description='Enter device uniqueId:', style={'description_width': '300px'}, layout=Layout(width='50%'))\n",
    "    thing.on_submit(execute_gui)\n",
    "    display(thing)\n",
    "    \n",
    "def execute_gui(b):\n",
    "    if(len(b.value) != 18 ):\n",
    "        print(\"Entered uniqueID length is not correct and it should be 18 characters\")\n",
    "        return None\n",
    "    aws_interact_gui('default', b.value)"
   ]
  },
  {
   "cell_type": "code",
   "execution_count": null,
   "metadata": {},
   "outputs": [],
   "source": [
    "print('--------------------------------------')\n",
    "list_current_configuration()\n",
    "\n",
    "config_aws_cli.on_click(execute_aws_configure)\n",
    "manifest_upload.on_click(execute_manifest_upload)\n",
    "aws_gui_b.on_click(execute_aws_gui)\n",
    "print('--------------------------------------')\n",
    "\n",
    "v = widgets.VBox((manifest_file, validation_cert, manifest_upload))\n",
    "display(widgets.HBox((config_aws_cli, v)))\n",
    "print('--------------------------------------')\n",
    "print('Before clicking AWS GUI its required to have Manifest file uploaded and \\\n",
    "Connecting embedded project to cloud by using host name and wifi credentials. \\\n",
    "Click below AWS GUI button ONLY after establishing connection with Cloud')\n",
    "display(aws_gui_b) \n",
    "print('--------------------------------------')"
   ]
  }
 ],
 "metadata": {
  "kernelspec": {
   "display_name": "Python 3",
   "language": "python",
   "name": "python3"
  },
  "language_info": {
   "codemirror_mode": {
    "name": "ipython",
    "version": 3
   },
   "file_extension": ".py",
   "mimetype": "text/x-python",
   "name": "python",
   "nbconvert_exporter": "python",
   "pygments_lexer": "ipython3",
   "version": "3.7.0"
  }
 },
 "nbformat": 4,
 "nbformat_minor": 2
}